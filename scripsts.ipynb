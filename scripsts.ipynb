{
 "cells": [
  {
   "cell_type": "markdown",
   "metadata": {},
   "source": [
    "## Soduko Solving With Matrix\n",
    "### Solving Sudoku by representing a board as a set of equations and solving them"
   ]
  },
  {
   "cell_type": "code",
   "execution_count": 101,
   "metadata": {},
   "outputs": [],
   "source": [
    "import numpy as np\n",
    "import z3\n",
    "import pip\n",
    "from typing import List"
   ]
  },
  {
   "cell_type": "code",
   "execution_count": 131,
   "metadata": {},
   "outputs": [],
   "source": [
    "class BooleanVariable:\n",
    "    def __init__(self, name: str):\n",
    "        self.name = name\n",
    "        self.var = z3.Bool(name)\n",
    "        self.value = None\n",
    " "
   ]
  },
  {
   "cell_type": "code",
   "execution_count": 194,
   "metadata": {},
   "outputs": [],
   "source": [
    "class OneIsTrueConstraint:\n",
    "    def __init__(self, variables: List[BooleanVariable]):\n",
    "        self.variables = variables\n",
    "    \n",
    "    def to_cnf(self):\n",
    "        # cnf that states that one of the variables and only one of them is true:\n",
    "\n",
    "        vars = [var.var for var in self.variables]\n",
    "        clauses = []\n",
    "        for i in range(len(vars)):\n",
    "            var_i = vars[i]\n",
    "            other_vars = [vars[j] for j in range(len(vars))  if j != i]\n",
    "            # checks that only i var is true and rest is false.\n",
    "            clause = z3.And([z3.Not(v) for v in other_vars] + [var_i])\n",
    "            clauses.append(clause)\n",
    "        total_cnf = z3.Or(clauses)\n",
    "        return total_cnf\n",
    "    \n",
    "    def __repr__(self):\n",
    "        return '+'.join([var.name for var in self.variables]) + f'=1'\n",
    "    "
   ]
  },
  {
   "cell_type": "code",
   "execution_count": 354,
   "metadata": {},
   "outputs": [],
   "source": [
    "class BoardSolver:\n",
    "    def __init__(self, board: np.ndarray):\n",
    "        \"\"\"\n",
    "        initing equations set by given board.\n",
    "        Args:\n",
    "          board: initial sudoko board represented with 0's on empty spots, and numbers on \n",
    "        \"\"\"\n",
    "        self.board = board\n",
    "        self.n = len(board)\n",
    "        self._create_empty_board_equations_set()\n",
    "        self._assign_variables_by_initial_board(board)\n",
    "        \n",
    "    \n",
    "    def _name_giver(self, square_i_j, value):\n",
    "        return f'is_square[{square_i_j[0] + 1}][{square_i_j[1] + 1}]_equals_{value+1}'\n",
    "        \n",
    "    def _create_empty_board_equations_set(self):\n",
    "        # create n variables for each of the n**2 squares- total of n**3 variables\n",
    "        n = self.n\n",
    "        variables = {}\n",
    "        constraints = []\n",
    "        \n",
    "        for square_i in range(n):\n",
    "            for square_j in range(n):\n",
    "                for k in range(n):\n",
    "                    name = self._name_giver((square_i, square_j), k)\n",
    "                    variables[name] =  BooleanVariable(name=name)\n",
    "                    \n",
    "        # the representation of a square by n boolean variables and not one int makes us add a constraint per square, that says the sum of those variables is 1.\n",
    "        for square_i in range(n):\n",
    "            for square_j in range(n):\n",
    "                vars = [variables[self._name_giver((square_i, square_j), k)] for k in range(n)]\n",
    "                constraints.append(OneIsTrueConstraint(variables=vars))\n",
    "\n",
    "\n",
    "            \n",
    "        # add rows constraints\n",
    "        for square_row in range(n):\n",
    "            for val in range(n):\n",
    "                # constraint - for each possible square value, make sure that only one of the row variables of that value is 1 - i.e. their sum is 1.\n",
    "                vars = [variables[self._name_giver((square_row, col), val)] for col in range(n)]\n",
    "                constraints.append(OneIsTrueConstraint(variables=vars))\n",
    "        \n",
    "        # add columns constraints\n",
    "        for square_col in range(n):\n",
    "            for val in range(n):\n",
    "                # constraint - for each possible square value, make sure that only one of the column variables of that value is 1 - i.e. their sum is 1.\n",
    "                vars = [variables[self._name_giver((row, square_col), val)] for row in range(n)]\n",
    "                constraints.append(OneIsTrueConstraint(variables=vars))\n",
    "        \n",
    "        # add boxes constraints\n",
    "        sqrtn = int(n**0.5)\n",
    "        for i in range(sqrtn):\n",
    "            for j in range(sqrtn):\n",
    "                box_indexes = [(i * sqrtn + ind_i, j * sqrtn + ind_j) for ind_j in range(sqrtn) for ind_i in range(sqrtn)]\n",
    "                for val in range(n):\n",
    "                    constraints.append(OneIsTrueConstraint(variables=[variables[self._name_giver((bi, bj), val)] for bi,bj in box_indexes]))\n",
    "        \n",
    "        self.variables = variables\n",
    "        self.constraints = constraints\n",
    "    \n",
    "        \n",
    "    def _assign_variables_by_initial_board(self, board: np.ndarray):\n",
    "        for square_i in range(board.shape[0]):\n",
    "            for square_j in range(board.shape[1]):\n",
    "                board_val = board[square_i][square_j]\n",
    "                if board_val != 0:\n",
    "                    board_val = board_val - 1\n",
    "                    for val in range(self.n):\n",
    "                        if val == board_val:\n",
    "                            self.variables[self._name_giver((square_i, square_j), val)].value = True                \n",
    "                        else:\n",
    "                            self.variables[self._name_giver((square_i, square_j), val)].value = False\n",
    "                            \n",
    "                            \n",
    "    def solve(self):\n",
    "        n = self.n\n",
    "        slvr = z3.Solver()\n",
    "        # add already assinged values to the solver.\n",
    "        for var in self.variables.values():\n",
    "            if var.value is not None:\n",
    "                slvr.add(var.var == var.value)\n",
    "        \n",
    "        \n",
    "         # add the cnfs of the constraints:\n",
    "        for cons in self.constraints:\n",
    "            slvr.add(cons.to_cnf())\n",
    "        \n",
    "        problem_type = slvr.check()\n",
    "        if str(problem_type) == 'sat':\n",
    "            model = slvr.model()\n",
    "\n",
    "            # create full board based on sat solution:\n",
    "            solved_board = self.board.copy()\n",
    "            for square_i in range(n):\n",
    "                for square_j in range(n):\n",
    "                    if self.board[square_i][square_j] == 0:\n",
    "                        for val in range(n):\n",
    "                            variable = self.variables[self._name_giver((square_i, square_j), val)]\n",
    "                            if model.eval(variable.var == True):\n",
    "                                solved_board[square_i][square_j] = val + 1\n",
    "                                break\n",
    "            return solved_board\n",
    "        elif str(problem_type) == 'unsat':\n",
    "            return 'Board is not solvable'\n",
    "    "
   ]
  },
  {
   "cell_type": "code",
   "execution_count": 356,
   "metadata": {},
   "outputs": [
    {
     "data": {
      "text/plain": [
       "(9, 9)"
      ]
     },
     "execution_count": 356,
     "metadata": {},
     "output_type": "execute_result"
    }
   ],
   "source": [
    "example_board = np.array([[5,3,0,0,7,0,0,0,0],\n",
    "                    [6,0,0,1,9,5,0,0,0],\n",
    "                    [0,9,8,0,0,0,0,6,0],\n",
    "                    [8,0,0,0,6,0,0,0,3],\n",
    "                    [4,0,0,8,0,3,0,0,1],\n",
    "                    [7,0,0,0,2,0,0,0,6],\n",
    "                    [0,6,0,0,0,0,2,8,0],\n",
    "                    [0,0,0,4,1,9,0,0,5],\n",
    "                    [0,0,0,0,8,0,0,7,9]])\n",
    "example_board.shape"
   ]
  },
  {
   "cell_type": "code",
   "execution_count": 357,
   "metadata": {},
   "outputs": [],
   "source": [
    "s = BoardSolver(example_board)"
   ]
  },
  {
   "cell_type": "code",
   "execution_count": 358,
   "metadata": {},
   "outputs": [
    {
     "data": {
      "text/plain": [
       "324"
      ]
     },
     "execution_count": 358,
     "metadata": {},
     "output_type": "execute_result"
    }
   ],
   "source": [
    "len(s.constraints)"
   ]
  },
  {
   "cell_type": "code",
   "execution_count": 359,
   "metadata": {},
   "outputs": [
    {
     "data": {
      "text/plain": [
       "729"
      ]
     },
     "execution_count": 359,
     "metadata": {},
     "output_type": "execute_result"
    }
   ],
   "source": [
    "len(s.variables)"
   ]
  },
  {
   "cell_type": "code",
   "execution_count": 360,
   "metadata": {},
   "outputs": [],
   "source": [
    "solution = s.solve()"
   ]
  },
  {
   "cell_type": "code",
   "execution_count": null,
   "metadata": {
    "scrolled": true
   },
   "outputs": [],
   "source": []
  },
  {
   "cell_type": "code",
   "execution_count": 361,
   "metadata": {},
   "outputs": [
    {
     "data": {
      "text/plain": [
       "array([[5, 3, 4, 6, 7, 8, 9, 1, 2],\n",
       "       [6, 7, 2, 1, 9, 5, 3, 4, 8],\n",
       "       [1, 9, 8, 3, 4, 2, 5, 6, 7],\n",
       "       [8, 5, 9, 7, 6, 1, 4, 2, 3],\n",
       "       [4, 2, 6, 8, 5, 3, 7, 9, 1],\n",
       "       [7, 1, 3, 9, 2, 4, 8, 5, 6],\n",
       "       [9, 6, 1, 5, 3, 7, 2, 8, 4],\n",
       "       [2, 8, 7, 4, 1, 9, 6, 3, 5],\n",
       "       [3, 4, 5, 2, 8, 6, 1, 7, 9]])"
      ]
     },
     "execution_count": 361,
     "metadata": {},
     "output_type": "execute_result"
    }
   ],
   "source": [
    "solution"
   ]
  },
  {
   "cell_type": "code",
   "execution_count": 362,
   "metadata": {},
   "outputs": [
    {
     "name": "stdout",
     "output_type": "stream",
     "text": [
      "(9, 9)\n"
     ]
    },
    {
     "data": {
      "text/plain": [
       "array([[3, 7, 6, 5, 9, 4, 2, 8, 1],\n",
       "       [4, 9, 5, 8, 2, 1, 3, 7, 6],\n",
       "       [8, 1, 2, 3, 7, 6, 4, 5, 9],\n",
       "       [2, 3, 8, 7, 4, 9, 1, 6, 5],\n",
       "       [1, 6, 9, 2, 8, 5, 7, 4, 3],\n",
       "       [5, 4, 7, 1, 6, 3, 8, 9, 2],\n",
       "       [9, 2, 4, 6, 3, 8, 5, 1, 7],\n",
       "       [6, 5, 3, 4, 1, 7, 9, 2, 8],\n",
       "       [7, 8, 1, 9, 5, 2, 6, 3, 4]])"
      ]
     },
     "execution_count": 362,
     "metadata": {},
     "output_type": "execute_result"
    }
   ],
   "source": [
    "board = np.array([[3,7,0,5,9,0,0,0,1],\n",
    "                    [0,0,5,8,0,0,0,0,6],\n",
    "                    [0,1,0,3,0,6,4,0,0],\n",
    "                    [2,0,8,0,4,9,0,6,5],\n",
    "                    [0,0,9,0,0,0,7,0,0],\n",
    "                    [5,4,0,0,6,0,8,0,2],\n",
    "                    [0,0,4,6,0,8,0,1,0],\n",
    "                    [6,0,0,0,0,7,9,0,0],\n",
    "                    [7,0,0,0,5,2,0,3,4]])\n",
    "print(board.shape)\n",
    "s = BoardSolver(board)\n",
    "solution = s.solve()\n",
    "solution"
   ]
  },
  {
   "cell_type": "code",
   "execution_count": 363,
   "metadata": {},
   "outputs": [
    {
     "name": "stdout",
     "output_type": "stream",
     "text": [
      "(9, 9)\n"
     ]
    },
    {
     "data": {
      "text/plain": [
       "array([[6, 4, 8, 3, 9, 7, 5, 2, 1],\n",
       "       [9, 5, 1, 4, 2, 6, 7, 8, 3],\n",
       "       [7, 2, 3, 1, 8, 5, 9, 6, 4],\n",
       "       [8, 1, 6, 9, 7, 3, 2, 4, 5],\n",
       "       [5, 7, 2, 8, 4, 1, 3, 9, 6],\n",
       "       [4, 3, 9, 6, 5, 2, 8, 1, 7],\n",
       "       [2, 8, 5, 7, 6, 4, 1, 3, 9],\n",
       "       [1, 6, 7, 2, 3, 9, 4, 5, 8],\n",
       "       [3, 9, 4, 5, 1, 8, 6, 7, 2]])"
      ]
     },
     "execution_count": 363,
     "metadata": {},
     "output_type": "execute_result"
    }
   ],
   "source": [
    "board = np.array([[0, 4, 0, 3, 0, 7, 0, 0, 0],\n",
    "                    [0, 0, 0, 0, 0, 0, 0, 8, 0],\n",
    "                    [7, 2, 3, 0, 0, 0, 0, 6, 0],\n",
    "                    [0, 0, 6, 9, 0, 0, 0, 4, 5],\n",
    "                    [0, 0, 2, 0, 4, 1, 3, 0, 6],\n",
    "                    [0, 0, 0, 0, 0, 0, 0, 0, 7],\n",
    "                    [0, 0, 0, 0, 6, 0, 0, 0, 9],\n",
    "                    [1, 0, 0, 0, 0, 0, 0, 0, 0],\n",
    "                    [0, 0, 4, 5, 1, 8, 0, 0, 0]])\n",
    "print(board.shape)\n",
    "s = BoardSolver(board)\n",
    "solution = s.solve()\n",
    "solution"
   ]
  },
  {
   "cell_type": "code",
   "execution_count": 364,
   "metadata": {},
   "outputs": [
    {
     "name": "stdout",
     "output_type": "stream",
     "text": [
      "(9, 9)\n"
     ]
    },
    {
     "data": {
      "text/plain": [
       "'Board is not solvable'"
      ]
     },
     "execution_count": 364,
     "metadata": {},
     "output_type": "execute_result"
    }
   ],
   "source": [
    "# error:\n",
    "board = np.array([[0, 4, 0, 3, 0, 7, 0, 0, 0],\n",
    "                    [0, 0, 0, 0, 0, 0, 0, 8, 0],\n",
    "                    [7, 2, 3, 0, 0, 0, 0, 6, 0],\n",
    "                    [0, 0, 6, 9, 0, 0, 0, 4, 5],\n",
    "                    [0, 0, 2, 0, 4, 1, 3, 0, 6],\n",
    "                    [0, 0, 0, 0, 0, 0, 0, 0, 7],\n",
    "                    [0, 0, 0, 0, 6, 0, 0, 0, 9],\n",
    "                    [1, 0, 0, 0, 0, 0, 0, 0, 0],\n",
    "                    [2, 0, 4, 5, 1, 8, 0, 0, 0]])\n",
    "print(board.shape)\n",
    "s = BoardSolver(board)\n",
    "solution = s.solve()\n",
    "solution"
   ]
  },
  {
   "cell_type": "code",
   "execution_count": null,
   "metadata": {},
   "outputs": [],
   "source": []
  },
  {
   "cell_type": "code",
   "execution_count": 15,
   "metadata": {
    "scrolled": false
   },
   "outputs": [],
   "source": [
    "#variables_solutions"
   ]
  },
  {
   "cell_type": "code",
   "execution_count": null,
   "metadata": {},
   "outputs": [],
   "source": []
  },
  {
   "cell_type": "code",
   "execution_count": null,
   "metadata": {},
   "outputs": [],
   "source": []
  },
  {
   "cell_type": "code",
   "execution_count": null,
   "metadata": {},
   "outputs": [],
   "source": []
  },
  {
   "cell_type": "code",
   "execution_count": 19,
   "metadata": {},
   "outputs": [],
   "source": [
    "import z3"
   ]
  },
  {
   "cell_type": "code",
   "execution_count": 28,
   "metadata": {},
   "outputs": [],
   "source": [
    "def one_and_only_one_is_true(vars):\n",
    "    clauses = []\n",
    "    for i in range(len(vars)):\n",
    "        var_i = vars[i]\n",
    "        other_vars = [vars[j] for j in range(len(vars))  if j != i]\n",
    "        # checks that only i var is true and rest is false.\n",
    "        clause = z3.And([z3.Not(v) for v in other_vars] + [var_i])\n",
    "        clauses.append(clause)\n",
    "    return z3.Or(clauses)\n",
    "    "
   ]
  },
  {
   "cell_type": "code",
   "execution_count": 141,
   "metadata": {},
   "outputs": [],
   "source": [
    "vars = [z3.Bool(f'x{i}') for i in range(10)]\n",
    "c = one_and_only_one_is_true(vars)\n"
   ]
  },
  {
   "cell_type": "code",
   "execution_count": null,
   "metadata": {},
   "outputs": [],
   "source": []
  },
  {
   "cell_type": "code",
   "execution_count": 166,
   "metadata": {},
   "outputs": [
    {
     "data": {
      "text/html": [
       "True"
      ],
      "text/plain": [
       "True"
      ]
     },
     "execution_count": 166,
     "metadata": {},
     "output_type": "execute_result"
    }
   ],
   "source": [
    "slv = z3.Solver()\n",
    "# slv.add(z3.Or([c, c, c, c]))\n",
    "slv.add(vars[0] == True)\n",
    "\n",
    "slv.check()\n",
    "d = slv.model()\n",
    "d.eval(vars[0] == True)"
   ]
  },
  {
   "cell_type": "code",
   "execution_count": 165,
   "metadata": {},
   "outputs": [
    {
     "data": {
      "text/html": [
       "[x0 = True]"
      ],
      "text/plain": [
       "[x0 == True]"
      ]
     },
     "execution_count": 165,
     "metadata": {},
     "output_type": "execute_result"
    }
   ],
   "source": [
    "slv"
   ]
  },
  {
   "cell_type": "code",
   "execution_count": 55,
   "metadata": {},
   "outputs": [
    {
     "ename": "AttributeError",
     "evalue": "'bool' object has no attribute 'as_ast'",
     "output_type": "error",
     "traceback": [
      "\u001b[0;31m---------------------------------------------------------------------------\u001b[0m",
      "\u001b[0;31mAttributeError\u001b[0m                            Traceback (most recent call last)",
      "\u001b[0;32m<ipython-input-55-d7bb261cae0f>\u001b[0m in \u001b[0;36m<module>\u001b[0;34m()\u001b[0m\n\u001b[0;32m----> 1\u001b[0;31m \u001b[0md\u001b[0m\u001b[0;34m.\u001b[0m\u001b[0mevaluate\u001b[0m\u001b[0;34m(\u001b[0m\u001b[0;32mTrue\u001b[0m\u001b[0;34m)\u001b[0m\u001b[0;34m\u001b[0m\u001b[0;34m\u001b[0m\u001b[0m\n\u001b[0m",
      "\u001b[0;32m/home/omri/.local/lib/python3.6/site-packages/z3/z3.py\u001b[0m in \u001b[0;36mevaluate\u001b[0;34m(self, t, model_completion)\u001b[0m\n\u001b[1;32m   6072\u001b[0m         \u001b[0;36m1\u001b[0m\u001b[0;34m\u001b[0m\u001b[0;34m\u001b[0m\u001b[0m\n\u001b[1;32m   6073\u001b[0m         \"\"\"\n\u001b[0;32m-> 6074\u001b[0;31m         \u001b[0;32mreturn\u001b[0m \u001b[0mself\u001b[0m\u001b[0;34m.\u001b[0m\u001b[0meval\u001b[0m\u001b[0;34m(\u001b[0m\u001b[0mt\u001b[0m\u001b[0;34m,\u001b[0m \u001b[0mmodel_completion\u001b[0m\u001b[0;34m)\u001b[0m\u001b[0;34m\u001b[0m\u001b[0;34m\u001b[0m\u001b[0m\n\u001b[0m\u001b[1;32m   6075\u001b[0m \u001b[0;34m\u001b[0m\u001b[0m\n\u001b[1;32m   6076\u001b[0m     \u001b[0;32mdef\u001b[0m \u001b[0m__len__\u001b[0m\u001b[0;34m(\u001b[0m\u001b[0mself\u001b[0m\u001b[0;34m)\u001b[0m\u001b[0;34m:\u001b[0m\u001b[0;34m\u001b[0m\u001b[0;34m\u001b[0m\u001b[0m\n",
      "\u001b[0;32m/home/omri/.local/lib/python3.6/site-packages/z3/z3.py\u001b[0m in \u001b[0;36meval\u001b[0;34m(self, t, model_completion)\u001b[0m\n\u001b[1;32m   6044\u001b[0m         \"\"\"\n\u001b[1;32m   6045\u001b[0m         \u001b[0mr\u001b[0m \u001b[0;34m=\u001b[0m \u001b[0;34m(\u001b[0m\u001b[0mAst\u001b[0m \u001b[0;34m*\u001b[0m \u001b[0;36m1\u001b[0m\u001b[0;34m)\u001b[0m\u001b[0;34m(\u001b[0m\u001b[0;34m)\u001b[0m\u001b[0;34m\u001b[0m\u001b[0;34m\u001b[0m\u001b[0m\n\u001b[0;32m-> 6046\u001b[0;31m         \u001b[0;32mif\u001b[0m \u001b[0mZ3_model_eval\u001b[0m\u001b[0;34m(\u001b[0m\u001b[0mself\u001b[0m\u001b[0;34m.\u001b[0m\u001b[0mctx\u001b[0m\u001b[0;34m.\u001b[0m\u001b[0mref\u001b[0m\u001b[0;34m(\u001b[0m\u001b[0;34m)\u001b[0m\u001b[0;34m,\u001b[0m \u001b[0mself\u001b[0m\u001b[0;34m.\u001b[0m\u001b[0mmodel\u001b[0m\u001b[0;34m,\u001b[0m \u001b[0mt\u001b[0m\u001b[0;34m.\u001b[0m\u001b[0mas_ast\u001b[0m\u001b[0;34m(\u001b[0m\u001b[0;34m)\u001b[0m\u001b[0;34m,\u001b[0m \u001b[0mmodel_completion\u001b[0m\u001b[0;34m,\u001b[0m \u001b[0mr\u001b[0m\u001b[0;34m)\u001b[0m\u001b[0;34m:\u001b[0m\u001b[0;34m\u001b[0m\u001b[0;34m\u001b[0m\u001b[0m\n\u001b[0m\u001b[1;32m   6047\u001b[0m             \u001b[0;32mreturn\u001b[0m \u001b[0m_to_expr_ref\u001b[0m\u001b[0;34m(\u001b[0m\u001b[0mr\u001b[0m\u001b[0;34m[\u001b[0m\u001b[0;36m0\u001b[0m\u001b[0;34m]\u001b[0m\u001b[0;34m,\u001b[0m \u001b[0mself\u001b[0m\u001b[0;34m.\u001b[0m\u001b[0mctx\u001b[0m\u001b[0;34m)\u001b[0m\u001b[0;34m\u001b[0m\u001b[0;34m\u001b[0m\u001b[0m\n\u001b[1;32m   6048\u001b[0m         \u001b[0;32mraise\u001b[0m \u001b[0mZ3Exception\u001b[0m\u001b[0;34m(\u001b[0m\u001b[0;34m\"failed to evaluate expression in the model\"\u001b[0m\u001b[0;34m)\u001b[0m\u001b[0;34m\u001b[0m\u001b[0;34m\u001b[0m\u001b[0m\n",
      "\u001b[0;31mAttributeError\u001b[0m: 'bool' object has no attribute 'as_ast'"
     ]
    }
   ],
   "source": [
    "d.evaluate(True)"
   ]
  },
  {
   "cell_type": "code",
   "execution_count": 56,
   "metadata": {},
   "outputs": [
    {
     "data": {
      "text/plain": [
       "z3.z3.ModelRef"
      ]
     },
     "execution_count": 56,
     "metadata": {},
     "output_type": "execute_result"
    }
   ],
   "source": []
  },
  {
   "cell_type": "code",
   "execution_count": 79,
   "metadata": {},
   "outputs": [
    {
     "data": {
      "text/plain": [
       "False"
      ]
     },
     "execution_count": 79,
     "metadata": {},
     "output_type": "execute_result"
    }
   ],
   "source": [
    "bool(d.eval(vars[1] == True))"
   ]
  },
  {
   "cell_type": "code",
   "execution_count": null,
   "metadata": {},
   "outputs": [],
   "source": []
  }
 ],
 "metadata": {
  "kernelspec": {
   "display_name": "Python 3",
   "language": "python",
   "name": "python3"
  },
  "language_info": {
   "codemirror_mode": {
    "name": "ipython",
    "version": 3
   },
   "file_extension": ".py",
   "mimetype": "text/x-python",
   "name": "python",
   "nbconvert_exporter": "python",
   "pygments_lexer": "ipython3",
   "version": "3.6.9"
  }
 },
 "nbformat": 4,
 "nbformat_minor": 2
}
